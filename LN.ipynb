{
  "nbformat": 4,
  "nbformat_minor": 0,
  "metadata": {
    "colab": {
      "provenance": [],
      "toc_visible": true
    },
    "kernelspec": {
      "name": "python3",
      "display_name": "Python 3"
    },
    "language_info": {
      "name": "python"
    }
  },
  "cells": [
    {
      "cell_type": "code",
      "execution_count": null,
      "metadata": {
        "id": "tEZktLB1aHaD"
      },
      "outputs": [],
      "source": [
        "import pandas as pd #for importing dataset\n",
        "import numpy as np #for doing mathematical operations\n",
        "from sklearn.model_selection import train_test_split as ttp #to break dataset for training and testing\n",
        "from sklearn.metrics import classification_report # to generate classification report\n",
        "import re #for data cleaning purpose\n",
        "import string #to deal with text data\n",
        "import matplotlib.pyplot as plt #for visualizing dataset"
      ]
    },
    {
      "cell_type": "code",
      "source": [
        "data_true=pd.read_csv(\"/content/True.csv\")\n",
        "data_fake=pd.read_csv(\"/content/Fake.csv\")"
      ],
      "metadata": {
        "id": "M7nfjPMrcfTr"
      },
      "execution_count": null,
      "outputs": []
    },
    {
      "cell_type": "code",
      "source": [
        "data_true.head(5)"
      ],
      "metadata": {
        "id": "N_z5p32cdhtn"
      },
      "execution_count": null,
      "outputs": []
    },
    {
      "cell_type": "code",
      "source": [
        "data_fake.head(5)"
      ],
      "metadata": {
        "id": "JsvhiBQPdjMs"
      },
      "execution_count": null,
      "outputs": []
    },
    {
      "cell_type": "code",
      "source": [
        "data_true.shape, data_fake.shape"
      ],
      "metadata": {
        "id": "_qkUpTq8doNu"
      },
      "execution_count": null,
      "outputs": []
    },
    {
      "cell_type": "code",
      "source": [
        "data_true[\"class\"]=1\n",
        "data_fake[\"class\"]=0"
      ],
      "metadata": {
        "id": "YENE6pAgdt04"
      },
      "execution_count": null,
      "outputs": []
    },
    {
      "cell_type": "code",
      "source": [
        "data_true_manual_testing = data_true.tail(10)\n",
        "for i in range(21416,21406,-1):\n",
        "    data_true.drop([i],axis=0, inplace=True)#removing those 10 values from original dataset\n",
        "\n",
        "data_fake_manual_testing = data_fake.tail(10)\n",
        "for i in range(21416,21406,-1):\n",
        "    data_fake.drop([i],axis=0, inplace=True)#removing those 10 values from original dataset"
      ],
      "metadata": {
        "id": "oZzqiwXBdxz2"
      },
      "execution_count": null,
      "outputs": []
    },
    {
      "cell_type": "code",
      "source": [
        "data_manual_testing = pd.concat([data_fake_manual_testing, data_true_manual_testing], axis=0)\n",
        "data_manual_testing.to_csv(\"manual_testing.csv \")"
      ],
      "metadata": {
        "id": "R577DwaBdy4l"
      },
      "execution_count": null,
      "outputs": []
    },
    {
      "cell_type": "code",
      "source": [
        "data_merge = pd.concat([data_fake,data_true],axis=0)\n",
        "data_merge.head(10)#displaying first 10 values after above operation"
      ],
      "metadata": {
        "id": "RaoQm13sd3ur"
      },
      "execution_count": null,
      "outputs": []
    },
    {
      "cell_type": "code",
      "source": [
        "print(data_merge.groupby(['subject'])['text'].count())\n",
        "data_merge.groupby(['subject'])['text'].count().plot(kind=\"bar\")\n",
        "plt.title(\"Articles per subject\",size=20)\n",
        "plt.xlabel(\"Category\",size=20)\n",
        "plt.ylabel(\"Article count\",size=20)\n",
        "plt.show()"
      ],
      "metadata": {
        "id": "I_Gbt-KHd3rU"
      },
      "execution_count": null,
      "outputs": []
    },
    {
      "cell_type": "code",
      "source": [
        "print(data_merge.groupby(['class'])['text'].count())\n",
        "print(\"0 = Fake news\\n1 = True news\")\n",
        "data_merge.groupby(['class'])['text'].count().plot(kind=\"pie\")\n",
        "plt.title(\"Fake news and True News\",size=20)\n",
        "plt.show()"
      ],
      "metadata": {
        "id": "lePNGSukeBqW"
      },
      "execution_count": null,
      "outputs": []
    },
    {
      "cell_type": "code",
      "source": [
        "data = data_merge.drop([\"title\",\"subject\",\"date\"], axis=1)\n",
        "data.head(10) #displaying remaining dataset"
      ],
      "metadata": {
        "id": "dO57eWxneEwD"
      },
      "execution_count": null,
      "outputs": []
    },
    {
      "cell_type": "code",
      "source": [
        "data=data.sample(frac=1)\n",
        "data.head(10)"
      ],
      "metadata": {
        "id": "F94E6VcSeH2D"
      },
      "execution_count": null,
      "outputs": []
    },
    {
      "cell_type": "code",
      "source": [
        "data.isnull().sum()"
      ],
      "metadata": {
        "id": "5UwuO5_DeKbw"
      },
      "execution_count": null,
      "outputs": []
    },
    {
      "cell_type": "code",
      "source": [
        "def filtering(data):\n",
        "    text=data.lower()\n",
        "    text=re.sub('\\[.*?\\]','',text)\n",
        "    text=re.sub(\"\\\\W\",\" \",text)\n",
        "    text=re.sub('https?://\\s+|www\\.S+','',text)\n",
        "    text=re.sub('<.*?>+','',text)\n",
        "    text=re.sub('[%s]'% re.escape(string.punctuation),'',text)\n",
        "    text=re.sub('\\w*\\d\\w*','',text)\n",
        "    return text"
      ],
      "metadata": {
        "id": "Ce2zgacxeNvv"
      },
      "execution_count": null,
      "outputs": []
    },
    {
      "cell_type": "code",
      "source": [
        "data[\"text\"]= data[\"text\"].apply(filtering)\n",
        "data.head(10)"
      ],
      "metadata": {
        "id": "H5PFtsq4eRz5"
      },
      "execution_count": null,
      "outputs": []
    },
    {
      "cell_type": "code",
      "source": [
        "x=data[\"text\"]\n",
        "y=data[\"class\"]"
      ],
      "metadata": {
        "id": "7msszVoSeSmX"
      },
      "execution_count": null,
      "outputs": []
    },
    {
      "cell_type": "code",
      "source": [
        "x_train,x_test,y_train,y_test=ttp(x,y,test_size=0.25,random_state=0)"
      ],
      "metadata": {
        "id": "MS8neVljeeC4"
      },
      "execution_count": null,
      "outputs": []
    }
  ]
}
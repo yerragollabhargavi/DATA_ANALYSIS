{
  "nbformat": 4,
  "nbformat_minor": 0,
  "metadata": {
    "colab": {
      "provenance": []
    },
    "kernelspec": {
      "name": "python3",
      "display_name": "Python 3"
    },
    "language_info": {
      "name": "python"
    }
  },
  "cells": [
    {
      "cell_type": "code",
      "execution_count": null,
      "metadata": {
        "colab": {
          "base_uri": "https://localhost:8080/"
        },
        "id": "qfu14PirpdPd",
        "outputId": "66d2f977-c592-4c0a-f37a-62d3b5e9e2c6"
      },
      "outputs": [
        {
          "output_type": "stream",
          "name": "stdout",
          "text": [
            "[1. 2. 3. 4. 5.]\n"
          ]
        }
      ],
      "source": [
        "import numpy as np\n",
        "#Creating arrays\n",
        "arr=np.array([1,2,3,4,5],dtype=float)\n",
        "print(arr)"
      ]
    },
    {
      "cell_type": "code",
      "source": [
        "zeros_arr=np.zeros((3,3),dtype=float)\n",
        "print(zeros_arr)\n",
        "ones_arr=np.ones((2,2),dtype=int)\n",
        "print(ones_arr)\n",
        "arange_arr=np.arange(10)\n",
        "print(arange_arr)"
      ],
      "metadata": {
        "colab": {
          "base_uri": "https://localhost:8080/"
        },
        "id": "4ZfDFYB4qJmG",
        "outputId": "75935d5f-72ce-40ff-fc74-77b2937f6681"
      },
      "execution_count": null,
      "outputs": [
        {
          "output_type": "stream",
          "name": "stdout",
          "text": [
            "[[0. 0. 0.]\n",
            " [0. 0. 0.]\n",
            " [0. 0. 0.]]\n",
            "[[1 1]\n",
            " [1 1]]\n",
            "[0 1 2 3 4 5 6 7 8 9]\n"
          ]
        }
      ]
    },
    {
      "cell_type": "code",
      "source": [
        "#Array Manipulation\n",
        "reshaped_arr=arr.reshape(5,1)\n",
        "print(reshaped_arr)\n",
        "#slicing the array\n",
        "sliced_array=arr[2:4]\n",
        "print(sliced_array)\n",
        "#transpose of the array\n",
        "a=np.array([1,2,3,4,5,6])\n",
        "b=a.T\n",
        "print(b)\n",
        "#split function\n",
        "b=np.split(a,3)\n",
        "print(b)\n",
        "a=np.array([[1,2],[3,4]])\n",
        "b=np.array([[5,6],[7,8]])\n",
        "c=np.dot(a,b)\n",
        "print(c)\n",
        "d=np.linalg.eig(c)\n",
        "print(d)"
      ],
      "metadata": {
        "colab": {
          "base_uri": "https://localhost:8080/"
        },
        "id": "TUPBqivhsBo1",
        "outputId": "fda4daf3-7e1c-46a0-81a8-7e5558de921d"
      },
      "execution_count": null,
      "outputs": [
        {
          "output_type": "stream",
          "name": "stdout",
          "text": [
            "[[1.]\n",
            " [2.]\n",
            " [3.]\n",
            " [4.]\n",
            " [5.]]\n",
            "[3. 4.]\n",
            "[1 2 3 4 5 6]\n",
            "[array([1, 2]), array([3, 4]), array([5, 6])]\n",
            "[[19 22]\n",
            " [43 50]]\n",
            "EigResult(eigenvalues=array([5.80198014e-02, 6.89419802e+01]), eigenvectors=array([[-0.75781077, -0.40313049],\n",
            "       [ 0.65247439, -0.91514251]]))\n"
          ]
        }
      ]
    },
    {
      "cell_type": "code",
      "source": [
        "#Creating a text document\n",
        "data=np.loadtxt(\"/content/drive/MyDrive/dataset/Dap.txt\",dtype=int)\n",
        "print(data)\n",
        "d=np.savetxt(\"/content/hi.txt\", data)\n",
        "print(d)\n"
      ],
      "metadata": {
        "colab": {
          "base_uri": "https://localhost:8080/"
        },
        "id": "9Ipx_k2fyy4t",
        "outputId": "7c472a64-3578-446a-e67d-8ebefe30c409"
      },
      "execution_count": null,
      "outputs": [
        {
          "output_type": "stream",
          "name": "stdout",
          "text": [
            "[1 2 3 4 5]\n",
            "None\n"
          ]
        }
      ]
    },
    {
      "cell_type": "code",
      "source": [
        "arange_arr=np.arange(0,100,5)\n",
        "print(arange_arr)"
      ],
      "metadata": {
        "colab": {
          "base_uri": "https://localhost:8080/"
        },
        "id": "52tHnCLpMwwW",
        "outputId": "f8927f8b-cc13-4185-cfda-63c4abcd30a3"
      },
      "execution_count": null,
      "outputs": [
        {
          "output_type": "stream",
          "name": "stdout",
          "text": [
            "[ 0  5 10 15 20 25 30 35 40 45 50 55 60 65 70 75 80 85 90 95]\n"
          ]
        }
      ]
    },
    {
      "cell_type": "code",
      "source": [
        "a=np.random.rand()\n",
        "print(a)\n",
        "b=np.random.randint(0,2)\n",
        "print(b)\n",
        "a=np.array([[1,2],[3,4]])\n",
        "print(a)\n",
        "print(type(a))\n",
        "print(a.ndim)\n",
        "print(a.shape)\n",
        "a=np.linspace(0.8,2,5)\n",
        "print(a)"
      ],
      "metadata": {
        "colab": {
          "base_uri": "https://localhost:8080/"
        },
        "id": "E-Pua5LDRhey",
        "outputId": "87906fe6-a915-4453-a08b-f7fd45d9d3b3"
      },
      "execution_count": null,
      "outputs": [
        {
          "output_type": "stream",
          "name": "stdout",
          "text": [
            "0.8827302608366983\n",
            "1\n",
            "[[1 2]\n",
            " [3 4]]\n",
            "<class 'numpy.ndarray'>\n",
            "2\n",
            "(2, 2)\n",
            "[0.8 1.1 1.4 1.7 2. ]\n"
          ]
        }
      ]
    },
    {
      "cell_type": "code",
      "source": [
        "c=np.arange(0,5)\n",
        "print(c)\n",
        "c=np.arange(24).reshape(3,2,4)\n",
        "print(c)"
      ],
      "metadata": {
        "colab": {
          "base_uri": "https://localhost:8080/"
        },
        "id": "H5Z7VoFiUQzl",
        "outputId": "b72fce91-55de-4e24-c20e-15cad8361534"
      },
      "execution_count": null,
      "outputs": [
        {
          "output_type": "stream",
          "name": "stdout",
          "text": [
            "[0 1 2 3 4]\n",
            "[[[ 0  1  2  3]\n",
            "  [ 4  5  6  7]]\n",
            "\n",
            " [[ 8  9 10 11]\n",
            "  [12 13 14 15]]\n",
            "\n",
            " [[16 17 18 19]\n",
            "  [20 21 22 23]]]\n"
          ]
        }
      ]
    },
    {
      "cell_type": "code",
      "source": [
        "a=np.array([[1,2],[3,4]])\n",
        "b=np.array([[5,6],[7,8]])\n",
        "print(a*b)\n",
        "print(a@b)\n",
        "c=np.dot(a,b)\n",
        "print(c)"
      ],
      "metadata": {
        "colab": {
          "base_uri": "https://localhost:8080/"
        },
        "id": "FAf6AUkEV1CW",
        "outputId": "a5f21a48-67bf-43ff-f365-e2fe15170e00"
      },
      "execution_count": null,
      "outputs": [
        {
          "output_type": "stream",
          "name": "stdout",
          "text": [
            "[[ 5 12]\n",
            " [21 32]]\n",
            "[[19 22]\n",
            " [43 50]]\n",
            "[[19 22]\n",
            " [43 50]]\n"
          ]
        }
      ]
    },
    {
      "cell_type": "code",
      "source": [
        "from numpy import random\n",
        "a=np.ones((2,3),dtype=int)\n",
        "print(a)\n",
        "c=a.sum()\n",
        "print(c)\n",
        "print(a.sum(axis=1))#row wise\n",
        "print(a.sum(axis=0))#column wise addition\n",
        "a=np.floor(np.random.random((2,2)))\n",
        "print(a)\n",
        "c=np.random.random((2,12))\n",
        "print(c.shape)\n",
        "print(c)\n",
        "a=np.ceil(np.random.random((2,12)))\n",
        "print(a)\n",
        "print(a.max())\n",
        "print(a.max(axis=1))\n",
        "d=np.array([[2,3],[4,5]])\n",
        "print(a.max())\n",
        "print(d.max())\n",
        "print(d.cumsum(axis=1))\n",
        "print(d.cumsum(axis=0))\n",
        "a=np.array([2,3,5,6])\n",
        "print(a.cumsum())\n",
        "a=np.array([1,2,3,4,5,6])\n",
        "print(a.resize(3,2))\n",
        "print(a)\n",
        "print(a.shape)\n",
        "a=np.array([1,2,3,4,5,6])\n",
        "a.resize(2,3)\n",
        "b=np.array([7,8,9,10,11,12])\n",
        "b.resize(2,3)\n",
        "print(np.vstack((a,b)))\n",
        "print(np.hstack((a,b)))\n",
        "c=np.arange(30).reshape(2,3,5)\n",
        "print(c)\n",
        "print(np.dstack(a))"
      ],
      "metadata": {
        "colab": {
          "base_uri": "https://localhost:8080/"
        },
        "id": "AOYRqOjrYqj4",
        "outputId": "e8f79012-bc19-418f-b7a5-189827254acb"
      },
      "execution_count": null,
      "outputs": [
        {
          "output_type": "stream",
          "name": "stdout",
          "text": [
            "[[1 1 1]\n",
            " [1 1 1]]\n",
            "6\n",
            "[3 3]\n",
            "[2 2 2]\n",
            "[[0. 0.]\n",
            " [0. 0.]]\n",
            "(2, 12)\n",
            "[[0.11758425 0.38060096 0.49011748 0.24137768 0.85315842 0.13103157\n",
            "  0.38652356 0.83686568 0.63928568 0.56216271 0.96720709 0.26398393]\n",
            " [0.27661098 0.15320532 0.26003024 0.7923643  0.96192091 0.0276026\n",
            "  0.99078624 0.16606831 0.70472689 0.05733949 0.27473417 0.66615687]]\n",
            "[[1. 1. 1. 1. 1. 1. 1. 1. 1. 1. 1. 1.]\n",
            " [1. 1. 1. 1. 1. 1. 1. 1. 1. 1. 1. 1.]]\n",
            "1.0\n",
            "[1. 1.]\n",
            "1.0\n",
            "5\n",
            "[[2 5]\n",
            " [4 9]]\n",
            "[[2 3]\n",
            " [6 8]]\n",
            "[ 2  5 10 16]\n",
            "None\n",
            "[[1 2]\n",
            " [3 4]\n",
            " [5 6]]\n",
            "(3, 2)\n",
            "[[ 1  2  3]\n",
            " [ 4  5  6]\n",
            " [ 7  8  9]\n",
            " [10 11 12]]\n",
            "[[ 1  2  3  7  8  9]\n",
            " [ 4  5  6 10 11 12]]\n",
            "[[[ 0  1  2  3  4]\n",
            "  [ 5  6  7  8  9]\n",
            "  [10 11 12 13 14]]\n",
            "\n",
            " [[15 16 17 18 19]\n",
            "  [20 21 22 23 24]\n",
            "  [25 26 27 28 29]]]\n",
            "[[[1 4]\n",
            "  [2 5]\n",
            "  [3 6]]]\n"
          ]
        }
      ]
    },
    {
      "cell_type": "markdown",
      "source": [
        "Number if rows become no.of group\n",
        "Column become rows group become column"
      ],
      "metadata": {
        "id": "uAXwzve9hXLp"
      }
    },
    {
      "cell_type": "code",
      "source": [
        "#Arthemetic Operators\n",
        "a=5\n",
        "b=10\n",
        "print(a==b)\n",
        "print(a+b)\n",
        "print(a//b)\n",
        "print(a%b)\n",
        "print(a/b)"
      ],
      "metadata": {
        "colab": {
          "base_uri": "https://localhost:8080/"
        },
        "id": "XxLhGa6CWCx2",
        "outputId": "d5c0318f-db14-437d-bbbe-9a19d5def29d"
      },
      "execution_count": null,
      "outputs": [
        {
          "output_type": "stream",
          "name": "stdout",
          "text": [
            "False\n",
            "15\n",
            "0\n",
            "5\n",
            "0.5\n"
          ]
        }
      ]
    },
    {
      "cell_type": "code",
      "source": [
        "#Logical Operators\n",
        "a=True\n",
        "b=True\n",
        "print(a&b)\n",
        "print(a|b)\n",
        "print(a and b)\n",
        "print(a or b)\n",
        "b=False\n",
        "print(a&b)\n",
        "print(a|b)\n",
        "print(a and b)\n",
        "print(a or b)"
      ],
      "metadata": {
        "colab": {
          "base_uri": "https://localhost:8080/"
        },
        "id": "HK9Cb0QjWgWt",
        "outputId": "0f152768-6501-42e9-f694-56c9190a76a3"
      },
      "execution_count": null,
      "outputs": [
        {
          "output_type": "stream",
          "name": "stdout",
          "text": [
            "True\n",
            "True\n",
            "True\n",
            "True\n",
            "False\n",
            "True\n",
            "False\n",
            "True\n"
          ]
        }
      ]
    },
    {
      "cell_type": "code",
      "source": [
        "#Relational Operators\n",
        "a=7\n",
        "b=5\n",
        "print(a>b)\n",
        "print(a<b)\n",
        "print(a==b)\n",
        "print(a<=b)\n",
        "print(a>=b)\n"
      ],
      "metadata": {
        "colab": {
          "base_uri": "https://localhost:8080/"
        },
        "id": "s5M4OQ4CXAp7",
        "outputId": "103c236f-f19d-47a4-c39d-7abc06159621"
      },
      "execution_count": null,
      "outputs": [
        {
          "output_type": "stream",
          "name": "stdout",
          "text": [
            "True\n",
            "False\n",
            "False\n",
            "False\n",
            "True\n"
          ]
        }
      ]
    },
    {
      "cell_type": "code",
      "source": [
        "n=10\n",
        "for i in range(n):\n",
        "  print(i)\n",
        "for i in range(1,n+1):\n",
        "    print(i)"
      ],
      "metadata": {
        "colab": {
          "base_uri": "https://localhost:8080/"
        },
        "id": "YDZnou1WXTRi",
        "outputId": "ad3cba95-90e6-432d-ab73-15a346189d1e"
      },
      "execution_count": null,
      "outputs": [
        {
          "output_type": "stream",
          "name": "stdout",
          "text": [
            "0\n",
            "1\n",
            "2\n",
            "3\n",
            "4\n",
            "5\n",
            "6\n",
            "7\n",
            "8\n",
            "9\n",
            "1\n",
            "2\n",
            "3\n",
            "4\n",
            "5\n",
            "6\n",
            "7\n",
            "8\n",
            "9\n",
            "10\n"
          ]
        }
      ]
    },
    {
      "cell_type": "code",
      "source": [
        "def prime(n):\n",
        "  count=0\n",
        "  for i in range(1,n+1):\n",
        "    if i%n:\n",
        "      count=count+1\n",
        "  if count==2:\n",
        "    print(i)\n",
        "\n",
        "n=10\n",
        "prime(n)"
      ],
      "metadata": {
        "id": "plak1SxKXmPi"
      },
      "execution_count": null,
      "outputs": []
    },
    {
      "cell_type": "markdown",
      "source": [
        "24-02-2024 Saturday"
      ],
      "metadata": {
        "id": "OMPA2Y_Jdol-"
      }
    },
    {
      "cell_type": "code",
      "source": [
        "a1=np.eye(4)\n",
        "print(a1)"
      ],
      "metadata": {
        "colab": {
          "base_uri": "https://localhost:8080/"
        },
        "id": "eL0pZgTOZB2Y",
        "outputId": "87831f7a-18f8-4751-cf9e-2d946cbf88ed"
      },
      "execution_count": null,
      "outputs": [
        {
          "output_type": "stream",
          "name": "stdout",
          "text": [
            "[[1. 0. 0. 0.]\n",
            " [0. 1. 0. 0.]\n",
            " [0. 0. 1. 0.]\n",
            " [0. 0. 0. 1.]]\n"
          ]
        }
      ]
    },
    {
      "cell_type": "code",
      "source": [
        "a1=np.full((2,2),3)\n",
        "print(a1)\n",
        "print(a1.itemsize)"
      ],
      "metadata": {
        "colab": {
          "base_uri": "https://localhost:8080/"
        },
        "id": "oNvct5hQZNOE",
        "outputId": "1a7fc638-6ed7-47ac-a1e7-ffa8e1f4a70e"
      },
      "execution_count": null,
      "outputs": [
        {
          "output_type": "stream",
          "name": "stdout",
          "text": [
            "[[3 3]\n",
            " [3 3]]\n",
            "8\n"
          ]
        }
      ]
    },
    {
      "cell_type": "code",
      "source": [
        "x=[1,2,3,]\n",
        "a=np.asarray(x)\n",
        "print(a)\n",
        "print(type(a))\n",
        "x=np.array([1,4,0],float)\n",
        "y=np.array([2,2,1],float)\n",
        "print(np.inner(x,y))\n",
        "print(np.outer(x,y))\n",
        "print(np.cross(x,y))"
      ],
      "metadata": {
        "colab": {
          "base_uri": "https://localhost:8080/"
        },
        "id": "ZxDN0-wRZwwx",
        "outputId": "b38bf93b-3da2-47bc-ea73-6638fbe430ae"
      },
      "execution_count": null,
      "outputs": [
        {
          "output_type": "stream",
          "name": "stdout",
          "text": [
            "[1 2 3]\n",
            "<class 'numpy.ndarray'>\n",
            "10.0\n",
            "[[2. 2. 1.]\n",
            " [8. 8. 4.]\n",
            " [0. 0. 0.]]\n",
            "[ 4. -1. -6.]\n"
          ]
        }
      ]
    },
    {
      "cell_type": "code",
      "source": [
        "x=np.array([1.1,2.2,3.3,4.4,5.5,6.6,7.7])\n",
        "np.rint(x)"
      ],
      "metadata": {
        "colab": {
          "base_uri": "https://localhost:8080/"
        },
        "id": "qE-dHPpocciL",
        "outputId": "63bc0d65-c843-450e-86d9-483055d3de41"
      },
      "execution_count": null,
      "outputs": [
        {
          "output_type": "execute_result",
          "data": {
            "text/plain": [
              "array([1., 2., 3., 4., 6., 7., 8.])"
            ]
          },
          "metadata": {},
          "execution_count": 32
        }
      ]
    },
    {
      "cell_type": "code",
      "source": [
        "a=np.array([10,15,20])\n",
        "b=np.array([2,3,4])\n",
        "np.true_divide(a,b)"
      ],
      "metadata": {
        "colab": {
          "base_uri": "https://localhost:8080/"
        },
        "id": "Wp99zdnNdGow",
        "outputId": "e55db340-4b18-481e-eb3d-e8a85b021295"
      },
      "execution_count": null,
      "outputs": [
        {
          "output_type": "execute_result",
          "data": {
            "text/plain": [
              "array([5., 5., 5.])"
            ]
          },
          "metadata": {},
          "execution_count": 34
        }
      ]
    },
    {
      "cell_type": "code",
      "source": [
        "a=np.array([1,1,2,2,3,3,4,4])\n",
        "print(np.unique(a))\n",
        "b=np.array([[1,2],[3,3]])\n",
        "c=np.array([[1,4],[4,7]])\n",
        "print(np.union1d(b,c))\n",
        "print(np.intersect1d(b,c))\n",
        "np.setdiff1d(b,c)"
      ],
      "metadata": {
        "colab": {
          "base_uri": "https://localhost:8080/"
        },
        "id": "WUM7FHvOdw-t",
        "outputId": "b7d0be22-76a8-4d47-bc58-abfc8a4679a7"
      },
      "execution_count": null,
      "outputs": [
        {
          "output_type": "stream",
          "name": "stdout",
          "text": [
            "[1 2 3 4]\n",
            "[1 2 3 4 7]\n",
            "[1]\n"
          ]
        },
        {
          "output_type": "execute_result",
          "data": {
            "text/plain": [
              "array([2, 3])"
            ]
          },
          "metadata": {},
          "execution_count": 78
        }
      ]
    },
    {
      "cell_type": "code",
      "source": [
        "a=8\n",
        "b=6\n",
        "c=np.hypot(a,b)#hypotesis=root(a sqaure +b sqaure)\n",
        "print(c)\n",
        "x=np.sin(0)\n",
        "print(x)\n",
        "a=np.array([10,21,30,40,50,60])\n",
        "b=np.array([20,21,2,20,25,25])\n",
        "print(np.divmod(a,b))\n",
        "print(np.divide(a,b))"
      ],
      "metadata": {
        "colab": {
          "base_uri": "https://localhost:8080/"
        },
        "id": "0TdAs0F3ggh_",
        "outputId": "0fa5c4a5-e29f-49c8-8cd5-db47991be564"
      },
      "execution_count": null,
      "outputs": [
        {
          "output_type": "stream",
          "name": "stdout",
          "text": [
            "10.0\n",
            "0.0\n",
            "(array([ 0,  1, 15,  2,  2,  2]), array([10,  0,  0,  0,  0, 10]))\n",
            "[ 0.5  1.  15.   2.   2.   2.4]\n"
          ]
        }
      ]
    },
    {
      "cell_type": "code",
      "source": [
        "a=np.array([10,21,30,40,50,60])\n",
        "b=np.array([20,21,2,20,25,25])\n",
        "print(np.multiply(a,b))"
      ],
      "metadata": {
        "colab": {
          "base_uri": "https://localhost:8080/"
        },
        "id": "ZVepSOO_ihja",
        "outputId": "48de17b1-a0ff-4547-dae9-f42ee0bd804e"
      },
      "execution_count": null,
      "outputs": [
        {
          "output_type": "stream",
          "name": "stdout",
          "text": [
            "[ 200  441   60  800 1250 1500]\n"
          ]
        }
      ]
    },
    {
      "cell_type": "code",
      "source": [
        "from numpy import random\n",
        "x=random.normal(size=(2,3))\n",
        "print(x)\n",
        "x=random.normal(loc=1,scale=2,size=(2,3))#loc=mean valu,scale=standard deviation\n",
        "print(x)\n",
        "x=random.binomial(n=12,p=0.5,size=10)#n=no.of trails,p=probability\n",
        "print(x)\n",
        "x=random.poisson(lam=2,size=10)\n",
        "print(x)\n",
        "x=random.choice([1,2,3,4,5])\n",
        "print(x)\n",
        "x=random.choice([3,5],p=[0.5,0.5],size=(3,5))\n",
        "print(x)"
      ],
      "metadata": {
        "colab": {
          "base_uri": "https://localhost:8080/"
        },
        "id": "coieZVxMiyO_",
        "outputId": "89705d33-6688-4293-b60f-96939c91cdb0"
      },
      "execution_count": null,
      "outputs": [
        {
          "output_type": "stream",
          "name": "stdout",
          "text": [
            "[[-2.38448013 -1.14507298 -0.70372667]\n",
            " [-0.09248292  1.37411037  1.43367754]]\n",
            "[[ 0.16674659  0.27078885 -0.80276349]\n",
            " [-0.81913764 -1.01448372  3.24196562]]\n",
            "[5 7 7 8 6 5 7 7 8 3]\n",
            "[0 1 0 0 1 1 3 3 0 1]\n",
            "2\n",
            "[[5 5 5 5 5]\n",
            " [5 3 3 3 5]\n",
            " [5 5 3 5 3]]\n"
          ]
        }
      ]
    }
  ]
}